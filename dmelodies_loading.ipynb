{
 "cells": [
  {
   "cell_type": "markdown",
   "source": [
    "## dMelodies: A Music Dataset for Disentanglement Learning\n",
    "### Description\n",
    "The dMelodies dataset is a dataset of algorithmically generated monophonic melodies. Each datapoint is a 2-bar melody which plays arpreggios on the standard I-IV-V-I cadence chord pattern. The dataset has 9 independent latent factors of variation: root, octave, scale, rhythm bar 1, rhythm bar 2, arpeggiation direction for each of the 4 chords.\n",
    "\n",
    "This jupyter notebook provides examples on how to use the dMelodies dataset and the provided pyTorch dataloader. \n",
    "\n",
    "### Loading Data\n",
    "**Option 1**: The dataset can also be read using the .npz object."
   ],
   "metadata": {
    "collapsed": false
   }
  },
  {
   "cell_type": "code",
   "execution_count": 3,
   "outputs": [],
   "source": [
    "import numpy as np"
   ],
   "metadata": {
    "collapsed": false,
    "pycharm": {
     "name": "#%%\n",
     "is_executing": false
    }
   }
  },
  {
   "cell_type": "code",
   "source": [
    "# Load dataset\n",
    "dataset_npz = np.load('data/dMelodies_dataset.npz', allow_pickle=True)\n",
    "\n",
    "print('Keys in the dataset:', dataset_npz.files)\n",
    "score_array = dataset_npz['score_array'] # numpy array containing the score representation (num_datapoint x 16)\n",
    "latent_array = dataset_npz['latent_array']  # numpy array containing the latent values of each datapoint (num_datapoint x 9)\n",
    "print(f'Score Array Shape: {score_array.shape}, Latent Array Shape: {latent_array.shape}' )\n",
    "\n",
    "metadata = dataset_npz['metadata']\n",
    "print(f'Metadata: \\n {metadata}')"
   ],
   "metadata": {
    "collapsed": false,
    "pycharm": {
     "name": "#%% \n",
     "is_executing": false
    }
   },
   "execution_count": 4,
   "outputs": [
    {
     "name": "stdout",
     "text": [
      "Keys in the dataset: ['score_array', 'latent_array', 'note2index_dict', 'index2note_dict', 'latent_dicts', 'metadata']\n",
      "Score Array Shape: (1354752, 16), Latent Array Shape: (1354752, 9)\n",
      "Metadata: \n",
      " {'title': 'dMelodies dataset', 'description': 'dMelodies dataset. Algorithmically generated 2-bar melodies. Each datapoint is a 2-bar melody which plays arpreggios on the standard I-IV-V-I cadence chord pattern. The dataset has 9 independent latent factors of variation: root, octave, scale, rhythm bar 1, rhythm bar 2, arpeggiation direction for each of the 4 chords. All possible values of the latent factors are present.', 'version': 1, 'authors': 'ashis.pati@gatech.edu, siddharth.gururani@gatech.edu, alexander.lerch@gatech.edu', 'data': 'July 26, 2020', 'latents_names': ('tonic', 'octave', 'scale', 'rhythm_bar1', 'rhythm_bar2', 'arp_chord1', 'arp_chord2', 'arp_chord3', 'arp_chord4')}\n"
     ],
     "output_type": "stream"
    }
   ]
  },
  {
   "cell_type": "markdown",
   "source": [
    "**Option 2**: Alternatively, the dataset can also be accesses using the `DMelodiesDataset` class."
   ],
   "metadata": {
    "collapsed": false
   }
  },
  {
   "cell_type": "code",
   "execution_count": 5,
   "outputs": [
    {
     "name": "stderr",
     "text": [
      "/Users/som/miniconda3/envs/inpaint/lib/python3.7/site-packages/numpy/lib/arraysetops.py:522: FutureWarning: elementwise comparison failed; returning scalar instead, but in the future will perform elementwise comparison\n",
      "  mask |= (ar1 == a)\n"
     ],
     "output_type": "stream"
    },
    {
     "name": "stdout",
     "text": [
      "Dataset already created. Reading it now\n",
      "Score Array Shape: (1354752, 16), Latent Array Shape: (1354752, 9)\n",
      "Metadata: \n",
      " {'title': 'dMelodies dataset', 'description': 'dMelodies dataset. Algorithmically generated 2-bar melodies. Each datapoint is a 2-bar melody which plays arpreggios on the standard I-IV-V-I cadence chord pattern. The dataset has 9 independent latent factors of variation: root, octave, scale, rhythm bar 1, rhythm bar 2, arpeggiation direction for each of the 4 chords. All possible values of the latent factors are present.', 'version': 1, 'authors': 'ashis.pati@gatech.edu, siddharth.gururani@gatech.edu, alexander.lerch@gatech.edu', 'data': 'July 26, 2020', 'latents_names': ('tonic', 'octave', 'scale', 'rhythm_bar1', 'rhythm_bar2', 'arp_chord1', 'arp_chord2', 'arp_chord3', 'arp_chord4')}\n"
     ],
     "output_type": "stream"
    }
   ],
   "source": [
    "from dmelodies_dataset import DMelodiesDataset\n",
    "\n",
    "# Load dataset\n",
    "dataset = DMelodiesDataset()\n",
    "dataset.make_or_load_dataset()  # loads the dataset\n",
    "\n",
    "score_array = dataset.score_array  # numpy array containing the score representation (num_datapoint x 16)\n",
    "latent_array = dataset.latent_array  # numpy array containing the latent values of each datapoint (num_datapoint x 9)\n",
    "print(f'Score Array Shape: {score_array.shape}, Latent Array Shape: {latent_array.shape}' )\n",
    "\n",
    "metadata = dataset.metadata\n",
    "print(f'Metadata: \\n {metadata}')\n"
   ],
   "metadata": {
    "collapsed": false,
    "pycharm": {
     "name": "#%%\n",
     "is_executing": false
    }
   }
  },
  {
   "cell_type": "markdown",
   "source": [
    "Visualizing Example Melodies"
   ],
   "metadata": {
    "collapsed": false,
    "pycharm": {
     "name": "#%% md\n"
    }
   }
  },
  {
   "cell_type": "code",
   "execution_count": 6,
   "outputs": [],
   "source": [
    "import random\n",
    "import music21"
   ],
   "metadata": {
    "collapsed": false,
    "pycharm": {
     "name": "#%%\n",
     "is_executing": false
    }
   }
  },
  {
   "cell_type": "code",
   "execution_count": 7,
   "outputs": [
    {
     "name": "stdout",
     "text": [
      "{'tonic': 'F#', 'octave': 5, 'scale': 'blues', 'rhythm_bar1': [1, 1, 0, 0, 1, 1, 1, 1], 'rhythm_bar2': [1, 1, 1, 1, 0, 1, 1, 0], 'arp_chord1': 'up', 'arp_chord2': 'down', 'arp_chord3': 'down', 'arp_chord4': 'down'}\n"
     ],
     "output_type": "stream"
    },
    {
     "data": {
      "text/plain": "<Figure size 720x432 with 1 Axes>",
      "image/png": "[encoded data removed]"
     },
     "metadata": {
      "image/png": {
       "width": 589,
       "height": 382
      }
     },
     "output_type": "display_data"
    }
   ],
   "source": [
    "rand_idx = random.randint(0, dataset.num_data_points)\n",
    "melody = dataset.get_score_from_datapoint(rand_idx)\n",
    "melody.parts[0].measures(1,2).plot()  # show as piano roll\n",
    "latents = dataset.get_latent_values_for_index(rand_idx)\n",
    "print(latents)\n",
    "# alternatively, if Musescore is correctly configured to be used with music21, then the score can also be displayed\n",
    "# melody.show()"
   ],
   "metadata": {
    "collapsed": false,
    "pycharm": {
     "name": "#%%\n",
     "is_executing": false
    }
   }
  },
  {
   "cell_type": "markdown",
   "source": [
    "### Using the PyTorch Dataloader\n",
    "\n",
    "A pyTorch dataloader class is provided in this repository in the `dmelodies_torch_dataloader.py` file.   "
   ],
   "metadata": {
    "collapsed": false,
    "pycharm": {
     "name": "#%% md\n"
    }
   }
  },
  {
   "cell_type": "code",
   "execution_count": 8,
   "outputs": [
    {
     "name": "stderr",
     "text": [
      "/Users/som/miniconda3/envs/inpaint/lib/python3.7/site-packages/numpy/lib/arraysetops.py:522: FutureWarning: elementwise comparison failed; returning scalar instead, but in the future will perform elementwise comparison\n",
      "  mask |= (ar1 == a)\n"
     ],
     "output_type": "stream"
    },
    {
     "name": "stdout",
     "text": [
      "Dataset already created. Reading it now\n",
      "Total number of datapoints: 1354752\n",
      "Number of batches: \n",
      " \t train:25402 \n",
      " \t validation:12701 \n",
      " \t test:4234\n"
     ],
     "output_type": "stream"
    }
   ],
   "source": [
    "from dmelodies_torch_dataloader import DMelodiesTorchDataset\n",
    "\n",
    "# Instantiate dataloader and load dataset\n",
    "torch_dataloader = DMelodiesTorchDataset(seed=0)  # seed can be used to initialize different random seeds\n",
    "torch_dataloader.load_dataset()  \n",
    "print(f'Total number of datapoints: {len(torch_dataloader.dataset)}')\n",
    "\n",
    "# Create dataloaders\n",
    "train_dl, val_dl, eval_dl = torch_dataloader.data_loaders(batch_size=32, split=(0.6, 0.3))\n",
    "print(f'Number of batches: \\n \\t train:{len(train_dl)} \\n \\t validation:{len(val_dl)} \\n \\t test:{len(eval_dl)}')"
   ],
   "metadata": {
    "collapsed": false,
    "pycharm": {
     "name": "#%%\n",
     "is_executing": false
    }
   }
  },
  {
   "cell_type": "code",
   "execution_count": null,
   "outputs": [],
   "source": [
    "\n"
   ],
   "metadata": {
    "collapsed": false,
    "pycharm": {
     "name": "#%%\n",
     "is_executing": false
    }
   }
  }
 ],
 "metadata": {
  "kernelspec": {
   "display_name": "Python 3",
   "language": "python",
   "name": "python3"
  },
  "language_info": {
   "codemirror_mode": {
    "name": "ipython",
    "version": 2
   },
   "file_extension": ".py",
   "mimetype": "text/x-python",
   "name": "python",
   "nbconvert_exporter": "python",
   "pygments_lexer": "ipython2",
   "version": "2.7.6"
  },
  "pycharm": {
   "stem_cell": {
    "cell_type": "raw",
    "source": [],
    "metadata": {
     "collapsed": false
    }
   }
  }
 },
 "nbformat": 4,
 "nbformat_minor": 0
}